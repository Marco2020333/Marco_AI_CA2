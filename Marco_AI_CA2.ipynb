{
 "cells": [
  {
   "cell_type": "code",
   "execution_count": null,
   "id": "60f0e934",
   "metadata": {},
   "outputs": [],
   "source": []
  },
  {
   "cell_type": "markdown",
   "id": "79e68b70",
   "metadata": {},
   "source": [
    "## Questions \n",
    "\n",
    "1. A puzzle has multiple ways of reaching the end solution. Fig. 1 shows a graph that represents all possible routes to the solution. The starting point of the game is represented by A, the solution is represented by S. The other points in the graph are possible intermediary stages.Next you can see image of Fig 1 graph: \n",
    "\n",
    "\n",
    "<img src=\"images/graph1.png\" alt=\"graph1\" width=\"500\" height=\"300\">\n"
   ]
  },
  {
   "cell_type": "markdown",
   "id": "bed45ad7",
   "metadata": {},
   "source": [
    "## (a) The graph in Fig. 1 is a visualisation of the problem. \n",
    "\n",
    "<h2>Identify the differences between a graph and a tree.</h2>\n",
    "    \n",
    "<p>The graph Above is undirect graph, an undirected graph is a set of nodes (vertices) and edges, so the edges have no direction. According to Lithmee (2019) “When a graph has an unordered pair of vertexes, it is an undirected graph. In other words, there is no specific direction to represent the edges. The vertexes connect together by undirected arcs, which are edges without arrows.”\n",
    "<p>What we can say is that the relationship between two nodes is symmetric, and if there is an edge between node A and node B, it can be understood that there is also an edge between node B and node A.</P>\n",
    "However, a tree is a distinct type of undirected graph which is connected. According to GeeksforGeeks(2019) “A tree is a special type of graph that is connected and acyclic, meaning that there are no cycles in the graph.” Therefore, one node is chosen as the root and all other nodes are connected by a single path from the root.</p>\n",
    "\n",
    "<h2>Explain in detail how the graph is an abstraction of the problem.</h2>\n",
    "\n",
    "<p>The image graph is an abstraction of the problem because it corresponds to a complex network of connections between various elements, such as letters(nodes), numbers(weights) also the edges. According to (livebook.manning.com, n.d.) “A graph is an abstract mathematical construct that is used for modeling a real-world problem by dividing the problem into a set of connected nodes. We call each of the nodes a vertex and each of the connections an edge.” </P>\n",
    "<p>By using a graph, we can facilitate the understanding and analysis of connections across different elements, in this case nodes, weights and edges, this way, we simplify the visualization. Therefore:\n",
    "Weights: Graphs can have weights linked with their edges. These weights correspond to numerical values that can mean several things depending on what we wish to represent. The image  graph in a hypothetical scenario is an example of a transport network (trains, undergrounds), the weights of the edges can correspond to the distances that must be travelled between two locations, travel time or cost.</p>\n",
    "<p><b>Nodes and Edges:</b> Nodes or edges in a graph can also have labels, which can correspond to different categories, types, or attributes linked to the nodes or edges. For example, nodes can be labels to represent each train station or city that is part of the network traffic. Edges for example can correspond to the distance (cost, time, etc.) between one node and others</p>\n",
    "\n",
    "<h2>Identify the advantages of using a visualisation such as the one shown in Fig. 1.</h2>\n",
    "\n",
    "<p>Using a visualisation as the one shown in Fig 1 in summary a graph network In summary, provide a visually inherent and powerful way to understand, explorer and analyse complex relationships. According to Disney(2018) “Graph visualization, sometimes called ‘network visualization’ or ‘link analysis’, is the process of visually presenting networks of connected entities using a node-link model. It enables analysts to intuitively identify trends, outliers and patterns of behavior, helping them make the right decisions, fast.”.\n",
    "Therefore, making them an invaluable tool in data analysis and crucial in decision-making processes, there are several advantages that we could list, but let's focus on 3 perspectives:<p>\n",
    "<p><b>Complexity:</b> Using visualization like that makes communicating complex ideas easier. simplifying complex relationships by representing them visually. Make complex connections and dependencies between multiple entities understandable.</p>\n",
    "<p><b>Relationship Analysis:</b> Visualizing this type of Graph is practical for analysing relationships between entities, in this case Nodes. Nodes can be a way of representing a social media user, for example, and as the entities (nodes) are connected to each other, they can be edges with weights which correspond to how much stronger the relationship between them is.</p>\n",
    "<p><b>Decision Making:</b>inside of context of social networks or other interconnected systems, this type of visualization can help identify influential nodes (individuals, websites, etc.), for example. making decision-making more assertive.</p>\n",
    "    \n",
    "    \n",
    "\n"
   ]
  },
  {
   "cell_type": "markdown",
   "id": "fb1bea5b",
   "metadata": {},
   "source": [
    "# (B) How Dijkstra’s algorithm would find the shortest path to the solution in Fig.1 \n",
    "\n",
    "Here are the steps and distances updated while running the algorithm:\n",
    "\n",
    "1.<b>Initialization:</b>\n",
    "\n",
    "* Start at the initial node 'A'.\n",
    "* Initialize the Weight to reach 'A' as 0 and the path as ['A'].\n",
    "2.<b>Update distances:</b> exploring nodes of A and updating distances based on the weights provided in the graph:\n",
    "* Explore neighbors of 'A' which are 'B', 'C', and 'H'.\n",
    "* pick up the neighbor with the smallest weight. In this case, it's 'B' with a Weight of 1.\n",
    "* Update the Weight to reach 'B' and the path: cost = 0 + 1 = 1, path = ['A', 'B'].\n",
    "    <img src=\"images/Distance_B.png\" alt=\"Distance_B\" width=\"500\" height=\"300\">\n",
    "3.<b>Update distance :</b>\n",
    "\n",
    "* Explore neighbors of 'B' which are 'A', 'C', and 'D'.\n",
    "* 'A' will be skipped because it's already visited. Choose 'C' with a weight of 2.\n",
    "* Update the cost to reach 'C' and the path: cost = 1 + 2 = 3, path = ['A', 'B', 'C'].\n",
    "    <img src=\"images/Distance_C.png\" alt=\"Distance_C\" width=\"500\" height=\"300\">\n",
    "4.<b>Updated distance:</b>\n",
    "\n",
    "* Explore neighbors of 'C' which are 'A', 'B', and 'G'.\n",
    "* Keep Skip 'A' and 'B' since they are visited. Choose 'G' with a weight of 1.\n",
    "* Update the Weight to reach 'G' and the path: weight = 3 + 1 = 4, path = ['A', 'B', 'C', 'G'].\n",
    "   <img src=\"images/Distance_G.png\" alt=\"Distance_G\" width=\"500\" height=\"300\">\n",
    "5.<b>Updated distance:</b>\n",
    "\n",
    "* Explore neighbors of 'G' which are 'C', 'F', and 'L'.\n",
    "* Keep 'C' and 'F' ignored, node 'C' has already been visited, although node 'F' has lower weight than node 'L'. \n",
    " 'L' will be choose with a weight of 3. 'L' was chosen because at the end of the path it is the node that has the lowest weight after adding it to the other nodes.\n",
    "* Update the Weight to reach 'L' and the path: weight = 4 + 3 = 7, path = ['A', 'B', 'C', 'G','L'].\n",
    "    <img src=\"images/Distance_L.png\" alt=\"Distance_L\" width=\"500\" height=\"300\">\n",
    "6.<b>Updated distance:</b>\n",
    "\n",
    "* Explore neighbors of 'L' which are 'G','D',K','W','V','M' and 'N'.\n",
    "* 'G' will be skipped because it's already visited, the other nodes left we choose 'N' has smallest weight among nodes.\n",
    "* Update the Weight to reach 'N' and the path: weight = 7 + 3 = 10, path = ['A', 'B', 'C', 'G','L','N'].\n",
    "   <img src=\"images/Distance_N.png\" alt=\"Distance_N\" width=\"500\" height=\"300\">\n",
    "7.<b>Updated distance:</b>\n",
    "\n",
    "* Explore neighbors of 'N' which are 'L','J','P', and 'S'.\n",
    "* 'L' will be skipped because it's already visited, Among the remaining nodes choose 'S' as the final destination and after adding it to the other nodes it will have the lowest final weight.\n",
    "* Update the Weight to reach 'N' and the path: weight = 10 + 7 = 17, path = ['A', 'B', 'C', 'G','L','N','S\"].\n",
    "   <img src=\"images/Distance_S.png\" alt=\"Distance_S\" width=\"500\" height=\"300\">\n",
    "8.<b>The shortest path from A To S:</b> \n",
    "    <img src=\"Images/shortest_path.png\" alt=\"Shortest_path\" width=\"500\" height=\"300\">                                                                      "
   ]
  },
  {
   "cell_type": "code",
   "execution_count": null,
   "id": "78b2cd02",
   "metadata": {},
   "outputs": [],
   "source": []
  }
 ],
 "metadata": {
  "kernelspec": {
   "display_name": "Python 3 (ipykernel)",
   "language": "python",
   "name": "python3"
  },
  "language_info": {
   "codemirror_mode": {
    "name": "ipython",
    "version": 3
   },
   "file_extension": ".py",
   "mimetype": "text/x-python",
   "name": "python",
   "nbconvert_exporter": "python",
   "pygments_lexer": "ipython3",
   "version": "3.9.12"
  }
 },
 "nbformat": 4,
 "nbformat_minor": 5
}
