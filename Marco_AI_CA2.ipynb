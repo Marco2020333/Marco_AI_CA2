{
 "cells": [
  {
   "cell_type": "markdown",
   "id": "5510322f",
   "metadata": {},
   "source": [
    "## Questions \n",
    "\n",
    "1. A puzzle has multiple ways of reaching the end solution. Fig. 1 shows a graph that represents all possible routes to the solution. The starting point of the game is represented by A, the solution is represented by S. The other points in the graph are possible intermediary stages. \n",
    "\n",
    "\n",
    "<img src=\"images/graph1.png\" alt=\"Image Description\" width=\"500\" height=\"300\">\n"
   ]
  },
  {
   "cell_type": "markdown",
   "id": "b48b34cf",
   "metadata": {},
   "source": [
    "## (a) The graph in Fig. 1 is a visualisation of the problem. \n",
    "\n",
    "<h2>Identify the differences between a graph and a tree.</h2>\n",
    "    \n",
    "<p>The graph Above is undirect graph, an undirected graph is a set of nodes (vertices) and edges, so the edges have no direction. According to Lithmee (2019) “When a graph has an unordered pair of vertexes, it is an undirected graph. In other words, there is no specific direction to represent the edges. The vertexes connect together by undirected arcs, which are edges without arrows.”\n",
    "<p>What we can say is that the relationship between two nodes is symmetric, and if there is an edge between node A and node B, it can be understood that there is also an edge between node B and node A.</P>\n",
    "However, a tree is a distinct type of undirected graph which is connected. According to GeeksforGeeks(2019) “A tree is a special type of graph that is connected and acyclic, meaning that there are no cycles in the graph.” Therefore, one node is chosen as the root and all other nodes are connected by a single path from the root.</p>\n"
   ]
  },
  {
   "cell_type": "code",
   "execution_count": null,
   "id": "b2bc3b44",
   "metadata": {},
   "outputs": [],
   "source": []
  }
 ],
 "metadata": {
  "kernelspec": {
   "display_name": "Python 3 (ipykernel)",
   "language": "python",
   "name": "python3"
  },
  "language_info": {
   "codemirror_mode": {
    "name": "ipython",
    "version": 3
   },
   "file_extension": ".py",
   "mimetype": "text/x-python",
   "name": "python",
   "nbconvert_exporter": "python",
   "pygments_lexer": "ipython3",
   "version": "3.9.12"
  }
 },
 "nbformat": 4,
 "nbformat_minor": 5
}
